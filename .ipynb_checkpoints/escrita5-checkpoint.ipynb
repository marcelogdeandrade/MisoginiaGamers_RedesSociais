{
 "cells": [
  {
   "cell_type": "code",
   "execution_count": null,
   "metadata": {
    "collapsed": true
   },
   "outputs": [],
   "source": [
    "import sys\n",
    "sys.path.append('..')\n",
    "\n",
    "import numpy as np\n",
    "import socnet as sn"
   ]
  },
  {
   "cell_type": "code",
   "execution_count": null,
   "metadata": {
    "collapsed": true
   },
   "outputs": [],
   "source": [
    "sn.graph_width = 500\n",
    "sn.graph_height = 500\n",
    "sn.node_size = 10\n",
    "sn.edge_width = 1\n",
    "sn.edge_color = (192, 192, 192)\n",
    "sn.node_label_position = 'top center'"
   ]
  },
  {
   "cell_type": "code",
   "execution_count": null,
   "metadata": {
    "collapsed": true
   },
   "outputs": [],
   "source": [
    "total_nodes = 200\n",
    "percentage_women = 0.4\n",
    "percentage_man = 1 - percentage_women\n",
    "\n",
    "g = sn.generate_empty_graph(total_nodes)\n",
    "g = g.to_directed()"
   ]
  },
  {
   "cell_type": "code",
   "execution_count": null,
   "metadata": {
    "collapsed": true
   },
   "outputs": [],
   "source": [
    "from random import randint\n",
    "\n",
    "for n in range(int(total_nodes * percentage_man)):\n",
    "    g.node[n]['gender'] = 'male'\n",
    "    g.node[n]['ability'] = randint(1, 10)\n",
    "    g.node[n]['color'] = (255,255,0)\n",
    "    g.node[n]['label'] = n\n",
    "    \n",
    "for n in range(int(total_nodes * percentage_man), total_nodes):\n",
    "    g.node[n]['gender'] = 'female'\n",
    "    g.node[n]['ability'] = randint(0, 10)\n",
    "    g.node[n]['color'] = (255,0,255)\n",
    "    g.node[n]['label'] = n\n"
   ]
  },
  {
   "cell_type": "code",
   "execution_count": null,
   "metadata": {
    "collapsed": true
   },
   "outputs": [],
   "source": [
    "for n in g.nodes():\n",
    "    for i in g.nodes():\n",
    "        if n != i:\n",
    "            ability_n = g.node[n]['ability']\n",
    "            ability_i = g.node[i]['ability']\n",
    "            if g.node[n]['gender'] == 'male' and g.node[i]['gender'] == 'female':\n",
    "                ability_i = int(0.5 * ability_i) \n",
    "            if ability_i >= ability_n and randint(0,50) == 50:\n",
    "                g.add_edge(n,i)\n",
    "    "
   ]
  },
  {
   "cell_type": "code",
   "execution_count": null,
   "metadata": {},
   "outputs": [],
   "source": [
    "sn.reset_edge_colors(g)\n",
    "sn.reset_positions(g, None)\n",
    "sn.show_graph(g, nlab=True)"
   ]
  },
  {
   "cell_type": "code",
   "execution_count": null,
   "metadata": {
    "collapsed": true
   },
   "outputs": [],
   "source": [
    "from scipy.stats.stats import pearsonr\n",
    "from scipy.optimize import minimize\n",
    "\n",
    "def equals(a, b):\n",
    "    return abs(a - b) < 0.000000001\n",
    "\n",
    "\n",
    "def calculate_pagerank(g):\n",
    "    length = g.number_of_nodes()\n",
    "\n",
    "    k = 10\n",
    "    scale = 0.8\n",
    "    residue = (1 - scale) / length\n",
    "\n",
    "    R = sn.build_matrix(g)\n",
    "\n",
    "    for n in g.nodes:\n",
    "        total = np.sum(R[n,])\n",
    "\n",
    "        if equals(total, 0):\n",
    "            R[n, n] = 1\n",
    "        else:\n",
    "            R[n,] /= total\n",
    "\n",
    "    R = scale * R + residue\n",
    "\n",
    "    Rt = R.transpose()\n",
    "\n",
    "    rank = 1 / length\n",
    "\n",
    "    r = np.full((length, 1), rank)\n",
    "\n",
    "    for _ in range(k):\n",
    "        r = Rt.dot(r)\n",
    "\n",
    "    for n in g.nodes:\n",
    "        g.nodes[n]['pagerank'] = r[n, 0]"
   ]
  },
  {
   "cell_type": "code",
   "execution_count": null,
   "metadata": {
    "collapsed": true
   },
   "outputs": [],
   "source": [
    "calculate_pagerank(g)"
   ]
  },
  {
   "cell_type": "code",
   "execution_count": null,
   "metadata": {
    "collapsed": true
   },
   "outputs": [],
   "source": [
    "for n,m in g.edges():\n",
    "#     g.edges[n,m]['weight'] = min(g.node[m]['pagerank'],g.node[n]['pagerank'])\n",
    "    if (g.node[m]['gender'] == 'male' and g.node[n]['gender'] == 'male'):\n",
    "        g.edges[n,m]['weight'] = max(g.node[m]['pagerank'],g.node[n]['pagerank'])\n",
    "    else:\n",
    "        g.edges[n,m]['weight'] = 0.5 * min(g.node[m]['pagerank'],g.node[n]['pagerank'])"
   ]
  },
  {
   "cell_type": "code",
   "execution_count": null,
   "metadata": {},
   "outputs": [],
   "source": [
    "sn.reset_edge_colors(g)\n",
    "sn.reset_positions(g, 'weight')\n",
    "sn.show_graph(g, nlab=True)"
   ]
  },
  {
   "cell_type": "code",
   "execution_count": null,
   "metadata": {},
   "outputs": [],
   "source": [
    "result = []\n",
    "avg_pagerank_male = 0\n",
    "avg_pagerank_female = 0\n",
    "for n in g.nodes():\n",
    "    result.append({'index': n, 'gender': g.node[n]['gender'], 'pagerank': g.node[n]['pagerank']})\n",
    "    if (g.node[n]['gender'] == 'male'):\n",
    "        avg_pagerank_male += g.node[n]['pagerank']\n",
    "    else:\n",
    "        avg_pagerank_female += g.node[n]['pagerank']\n",
    "\n",
    "avg_pagerank_male /= (total_nodes * percentage_man)\n",
    "avg_pagerank_female /= (total_nodes * percentage_women)\n",
    "\n",
    "print('avg_male', avg_pagerank_male)\n",
    "print('avg_female', avg_pagerank_female)\n",
    "# result = sorted(result, key=itemgetter('pagerank'), reverse=True)\n",
    "\n",
    "# for n in result:\n",
    "#     print(n)"
   ]
  },
  {
   "cell_type": "code",
   "execution_count": null,
   "metadata": {
    "collapsed": true
   },
   "outputs": [],
   "source": [
    "def snapshot(g, frames):\n",
    "    frame = sn.generate_frame(g)\n",
    "\n",
    "    frames.append(frame)"
   ]
  },
  {
   "cell_type": "code",
   "execution_count": null,
   "metadata": {
    "collapsed": true
   },
   "outputs": [],
   "source": [
    "# generate mutiple graphs with different # of woman\n",
    "def gen(percentage_women, total_nodes):\n",
    "    percentage_man = 1 - percentage_women\n",
    "\n",
    "    g_ = sn.generate_empty_graph(total_nodes)\n",
    "    g_ = g_.to_directed()\n",
    "\n",
    "    for n in range(int(total_nodes * percentage_man)):\n",
    "        g_.node[n]['gender'] = 'male'\n",
    "        g_.node[n]['ability'] = randint(0, 10)\n",
    "        g_.node[n]['color'] = (255,255,0)\n",
    "        g_.node[n]['label'] = n\n",
    "\n",
    "    for n in range(int(total_nodes * percentage_man), total_nodes):\n",
    "        g_.node[n]['gender'] = 'female'\n",
    "        g_.node[n]['ability'] = randint(0, 10)\n",
    "        g_.node[n]['color'] = (255,0,255)\n",
    "        g_.node[n]['label'] = n\n",
    "        \n",
    "    for n in g_.nodes():\n",
    "        for i in g_.nodes():\n",
    "            if n != i:\n",
    "                ability_n = g_.node[n]['ability']\n",
    "                ability_i = g_.node[i]['ability']\n",
    "                if g_.node[n]['gender'] == 'male' and g_.node[i]['gender'] == 'female':\n",
    "                    ability_i = 0.1 * ability_i\n",
    "                if ability_i >= ability_n and randint(0,2) == 2:\n",
    "                    g_.add_edge(n,i)\n",
    "\n",
    "    sn.reset_edge_colors(g_)\n",
    "    calculate_pagerank(g_)\n",
    "    return g_\n",
    "\n",
    "\n",
    "def gen_graph(total_nodes):\n",
    "    percentage_women = 0.1\n",
    "    gg = []\n",
    "    \n",
    "    while percentage_women < 1:\n",
    "        g_ = gen(percentage_women, total_nodes)\n",
    "        percentage_women += 0.1\n",
    "        gg.append(g_)\n",
    "    \n",
    "    return gg\n",
    "\n",
    "gg = gen_graph(50)"
   ]
  },
  {
   "cell_type": "code",
   "execution_count": null,
   "metadata": {},
   "outputs": [],
   "source": [
    "frames = []\n",
    "i = 0\n",
    "\n",
    "print(len(gg))\n",
    "\n",
    "for gugu in gg:\n",
    "    snapshot(gugu, frames)\n",
    "    i+=1"
   ]
  },
  {
   "cell_type": "code",
   "execution_count": null,
   "metadata": {},
   "outputs": [],
   "source": [
    "\n",
    "sn.show_animation(frames)"
   ]
  },
  {
   "cell_type": "code",
   "execution_count": null,
   "metadata": {
    "collapsed": true
   },
   "outputs": [],
   "source": [
    "def gen_pr(gg):\n",
    "    pr = []\n",
    "    i = 0.1\n",
    "\n",
    "    for g in gg:\n",
    "        result = []\n",
    "        avg_pagerank_male = 0\n",
    "        avg_pagerank_female = 0\n",
    "        for n in g.nodes():\n",
    "            result.append({'index': n, 'gender': g.node[n]['gender'], 'pagerank': g.node[n]['pagerank']})\n",
    "            print(i, g.node[n]['gender'], g.node[n]['pagerank'])\n",
    "            if (g.node[n]['gender'] == 'male'):\n",
    "                avg_pagerank_male += g.node[n]['pagerank']\n",
    "            else:\n",
    "                avg_pagerank_female += g.node[n]['pagerank']\n",
    "\n",
    "        percentage_man = 1 - i\n",
    "        percentage_women = i\n",
    "        avg_pagerank_male /= (total_nodes * percentage_man)\n",
    "        avg_pagerank_female /= (total_nodes * percentage_women)\n",
    "        pr.append({ 'male': avg_pagerank_male, 'female': avg_pagerank_female })\n",
    "#         print('percentage female:', i)\n",
    "#         print('avg_male', avg_pagerank_male)\n",
    "#         print('avg_female', avg_pagerank_female)\n",
    "#         print('pagerank difference:', avg_pagerank_male - avg_pagerank_female, '\\n')\n",
    "        i+=0.1\n",
    "    \n",
    "    return pr"
   ]
  },
  {
   "cell_type": "code",
   "execution_count": null,
   "metadata": {},
   "outputs": [],
   "source": [
    "ng = []\n",
    "prs = []\n",
    "\n",
    "total_nodes = 50\n",
    "\n",
    "for _ in range(1):\n",
    "    _gg = gen_graph(total_nodes)\n",
    "    pr = gen_pr(_gg)\n",
    "    ng.append(_gg)\n",
    "    prs.append(pr)\n",
    "    \n",
    "avgs = []\n",
    "\n",
    "# rip cache\n",
    "LEN = len(prs[0])\n",
    "for i in range(LEN):\n",
    "    avg_male, avg_female = 0, 0\n",
    "    for j in range(len(prs)):\n",
    "        avg_male += prs[j][i]['male']\n",
    "        avg_female += prs[j][i]['female']\n",
    "    \n",
    "    avgs.append({ \n",
    "        'male': avg_male / len(prs),\n",
    "        'female': avg_female / len(prs)\n",
    "    })"
   ]
  },
  {
   "cell_type": "code",
   "execution_count": null,
   "metadata": {},
   "outputs": [],
   "source": [
    "i = 0.1\n",
    "\n",
    "for v in avgs:\n",
    "    print('''\n",
    "        female percentage: {:.2f}\n",
    "        male pr avg:       {:.5f}\n",
    "        female pr avg:     {:.5f}\n",
    "        difference:        {:.5f}\n",
    "    '''.format(i, v['male'], v['female'], v['male'] - v['female']))\n",
    "    i+=.1"
   ]
  },
  {
   "cell_type": "markdown",
   "metadata": {},
   "source": [
    "## SIMULATIONS"
   ]
  },
  {
   "cell_type": "code",
   "execution_count": null,
   "metadata": {
    "collapsed": true
   },
   "outputs": [],
   "source": [
    "frames = []\n",
    "\n",
    "from math import inf\n",
    "\n",
    "def smallest_successor(g, n):\n",
    "    s = list(g.successors(n))\n",
    "    \n",
    "    if len(s) == 0:\n",
    "        return None    \n",
    "    k = min(s, key=lambda k: g.node[k]['pagerank'])\n",
    "    print(k)\n",
    "    return k\n",
    "\n",
    "def find_smallest_pagerank(g):\n",
    "    result = inf\n",
    "    node = 0\n",
    "    for n in g.nodes():\n",
    "        if g.node[n]['pagerank']  < result:\n",
    "            result = g.node[n]['pagerank']\n",
    "            node = n\n",
    "    return node\n",
    "\n",
    "\n",
    "\n",
    "# for j in range(0,10):\n",
    "\n",
    "def create_chart(percentage):\n",
    "    y1 = []\n",
    "    y2 = []\n",
    "    x = []\n",
    "    g = gen(percentage, 200)  # 30% females in the playerbase\n",
    "    bla = 0\n",
    "    while True:\n",
    "    #     calculate_pagerank(g)\n",
    "        n = find_smallest_pagerank(g)\n",
    "        g.remove_node(n)\n",
    "    #     for n in g.nodes():\n",
    "    #         s = smallest_successor(g, n)\n",
    "\n",
    "    #         if s != None:  # None means it has no successors\n",
    "    #             g.remove_edge(n, s)\n",
    "        sn.reset_positions(g, None)\n",
    "        males = 0\n",
    "        females = 0\n",
    "        for n in g.nodes():\n",
    "            if (g.node[n]['gender'] == 'male'):\n",
    "                males += 1\n",
    "            else:\n",
    "                females += 1\n",
    "        bla += 1\n",
    "    #     print('males:{}, females:{}'.format(males,females))\n",
    "        y1.append(males)\n",
    "        y2.append(females)\n",
    "        x.append(bla)\n",
    "        if females == 0:\n",
    "    #         print(0.1, bla)\n",
    "            break\n",
    "    return [y1,y2,x]\n",
    "\n",
    "#     snapshot(g, frames)\n",
    "\n",
    "            \n",
    "# sn.show_animation(frames)"
   ]
  },
  {
   "cell_type": "code",
   "execution_count": null,
   "metadata": {},
   "outputs": [],
   "source": [
    "import matplotlib.pyplot as plt\n",
    "import numpy as np\n",
    "\n",
    "y1, y2, x = create_chart(0.5)\n",
    "\n",
    "plt.figure()\n",
    "plt.plot(x, y1, label=\"Homens\")\n",
    "plt.plot(x, y2, label=\"Mulheres\")\n",
    "plt.legend()\n",
    "plt.title(\"Remoção de menores pageranks para 50% de mulheres\")\n",
    "plt.xlabel('Iterações')\n",
    "plt.ylabel('Número de pessoas')\n",
    "\n",
    "plt.show()"
   ]
  },
  {
   "cell_type": "code",
   "execution_count": null,
   "metadata": {},
   "outputs": [],
   "source": [
    "y1, y2, x = create_chart(0.2)\n",
    "\n",
    "plt.figure()\n",
    "plt.plot(x, y1, label=\"Homens\")\n",
    "plt.plot(x, y2, label=\"Mulheres\")\n",
    "plt.legend()\n",
    "plt.title(\"Remoção de menores pageranks para 20% de mulheres\")\n",
    "plt.xlabel('Iterações')\n",
    "plt.ylabel('Número de pessoas')\n",
    "\n",
    "plt.show()"
   ]
  },
  {
   "cell_type": "code",
   "execution_count": null,
   "metadata": {},
   "outputs": [],
   "source": [
    "y1, y2, x = create_chart(0.8)\n",
    "\n",
    "plt.figure()\n",
    "plt.plot(x, y1, label=\"Homens\")\n",
    "plt.plot(x, y2, label=\"Mulheres\")\n",
    "plt.legend()\n",
    "plt.title(\"Remoção de menores pageranks para 80% de mulheres\")\n",
    "plt.xlabel('Iterações')\n",
    "plt.ylabel('Número de pessoas')\n",
    "\n",
    "plt.show()"
   ]
  }
 ],
 "metadata": {
  "kernelspec": {
   "display_name": "Python 3",
   "language": "python",
   "name": "python3"
  },
  "language_info": {
   "codemirror_mode": {
    "name": "ipython",
    "version": 3
   },
   "file_extension": ".py",
   "mimetype": "text/x-python",
   "name": "python",
   "nbconvert_exporter": "python",
   "pygments_lexer": "ipython3",
   "version": "3.5.2"
  }
 },
 "nbformat": 4,
 "nbformat_minor": 2
}
