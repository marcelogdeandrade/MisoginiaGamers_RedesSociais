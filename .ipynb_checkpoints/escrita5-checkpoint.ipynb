{
 "cells": [
  {
   "cell_type": "code",
   "execution_count": null,
   "metadata": {
    "collapsed": true
   },
   "outputs": [],
   "source": [
    "import sys\n",
    "sys.path.append('..')\n",
    "\n",
    "import numpy as np\n",
    "import socnet as sn"
   ]
  },
  {
   "cell_type": "code",
   "execution_count": null,
   "metadata": {
    "collapsed": true
   },
   "outputs": [],
   "source": [
    "sn.graph_width = 500\n",
    "sn.graph_height = 500\n",
    "sn.node_size = 10\n",
    "sn.edge_width = 1\n",
    "sn.edge_color = (192, 192, 192)\n",
    "sn.node_label_position = 'top center'"
   ]
  },
  {
   "cell_type": "code",
   "execution_count": null,
   "metadata": {
    "collapsed": true
   },
   "outputs": [],
   "source": [
    "print(dir(sn))"
   ]
  },
  {
   "cell_type": "code",
   "execution_count": null,
   "metadata": {
    "collapsed": true
   },
   "outputs": [],
   "source": [
    "total_nodes = 60\n",
    "percentage_women = 0.2\n",
    "percentage_man = 1 - percentage_women\n",
    "\n",
    "constant_prejudice_women = 0.8\n",
    "\n",
    "g = sn.generate_empty_graph(total_nodes)\n",
    "# g = g.to_directed()"
   ]
  },
  {
   "cell_type": "code",
   "execution_count": null,
   "metadata": {
    "collapsed": true
   },
   "outputs": [],
   "source": [
    "from random import randint\n",
    "\n",
    "for n in range(int(total_nodes * percentage_man)):\n",
    "    g.node[n]['gender'] = 'male'\n",
    "    g.node[n]['ability'] = randint(0, 10)\n",
    "    g.node[n]['color'] = (255,255,0)\n",
    "    \n",
    "for n in range(int(total_nodes * percentage_man), total_nodes):\n",
    "    g.node[n]['gender'] = 'female'\n",
    "    g.node[n]['ability'] = randint(0, 6)\n",
    "    g.node[n]['color'] = (255,0,255)\n"
   ]
  },
  {
   "cell_type": "code",
   "execution_count": null,
   "metadata": {
    "collapsed": true
   },
   "outputs": [],
   "source": [
    "for n in g.nodes():\n",
    "    for i in g.nodes():\n",
    "        if n != i:\n",
    "            ability_n = g.node[n]['ability']\n",
    "            ability_i = g.node[i]['ability']\n",
    "            if g.node[n]['gender'] == 'male' and g.node[i]['gender'] == 'female':\n",
    "                ability_i = max(ability_i - 1,0)\n",
    "            if ability_i >= ability_n and randint(0,10) == 10:\n",
    "                g.add_edge(n,i)"
   ]
  },
  {
   "cell_type": "code",
   "execution_count": null,
   "metadata": {
    "collapsed": true
   },
   "outputs": [],
   "source": [
    "sn.reset_edge_colors(g)\n",
    "sn.show_graph(g)"
   ]
  },
  {
   "cell_type": "code",
   "execution_count": null,
   "metadata": {
    "collapsed": true
   },
   "outputs": [],
   "source": [
    "from scipy.stats.stats import pearsonr\n",
    "from scipy.optimize import minimize\n",
    "\n",
    "def equals(a, b):\n",
    "    return abs(a - b) < 0.000000001\n",
    "\n",
    "\n",
    "def calculate_pagerank(g):\n",
    "    length = g.number_of_nodes()\n",
    "\n",
    "    k = 10\n",
    "    scale = 0.8\n",
    "    residue = (1 - scale) / length\n",
    "\n",
    "    R = sn.build_matrix(g)\n",
    "\n",
    "    for n in g.nodes:\n",
    "        total = np.sum(R[n,])\n",
    "\n",
    "        if equals(total, 0):\n",
    "            R[n, n] = 1\n",
    "        else:\n",
    "            R[n,] /= total\n",
    "\n",
    "    R = scale * R + residue\n",
    "\n",
    "    Rt = R.transpose()\n",
    "\n",
    "    rank = 1 / length\n",
    "\n",
    "    r = np.full((length, 1), rank)\n",
    "\n",
    "    for _ in range(k):\n",
    "        r = Rt.dot(r)\n",
    "\n",
    "    for n in g.nodes:\n",
    "        g.nodes[n]['pagerank'] = r[n, 0]"
   ]
  },
  {
   "cell_type": "code",
   "execution_count": null,
   "metadata": {
    "collapsed": true
   },
   "outputs": [],
   "source": [
    "calculate_pagerank(g)"
   ]
  },
  {
   "cell_type": "code",
   "execution_count": null,
   "metadata": {
    "collapsed": true
   },
   "outputs": [],
   "source": [
    "for n in g.nodes():\n",
    "    print(n, g.node[n]['gender'], g.node[n]['pagerank'])"
   ]
  }
 ],
 "metadata": {
  "kernelspec": {
   "display_name": "Python 3",
   "language": "python",
   "name": "python3"
  },
  "language_info": {
   "codemirror_mode": {
    "name": "ipython",
    "version": 3
   },
   "file_extension": ".py",
   "mimetype": "text/x-python",
   "name": "python",
   "nbconvert_exporter": "python",
   "pygments_lexer": "ipython3",
   "version": "3.5.2"
  }
 },
 "nbformat": 4,
 "nbformat_minor": 2
}
